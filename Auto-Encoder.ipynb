{
 "cells": [
  {
   "cell_type": "code",
   "execution_count": 1,
   "metadata": {},
   "outputs": [],
   "source": [
    "import os\n",
    "import numpy as np\n",
    "import torch\n",
    "import torch.nn as nn\n",
    "import torch.nn.functional as F\n",
    "import torch.optim as optim\n",
    "import datetime\n",
    "#os.environ[\"CUDA_VISIBLE_DEVICES\"] = \"0\"\n",
    "import matplotlib.pyplot as plt\n",
    "%matplotlib inline"
   ]
  },
  {
   "cell_type": "code",
   "execution_count": 2,
   "metadata": {},
   "outputs": [],
   "source": [
    "class Auto_Encoder(nn.Module):\n",
    "    def __init__(self,nb_channels,nb_encoded_features,img_size = (64,64,64)):\n",
    "        nn.Module.__init__(self)\n",
    "        self.nb_channels = nb_channels\n",
    "        self.nb_encoded_features = nb_encoded_features\n",
    "        self.img_size = img_size\n",
    "        self.pool = nn.MaxPool3d(kernel_size = 4,return_indices = True)\n",
    "        self.unpool = nn.MaxUnpool3d(kernel_size = 4)\n",
    "        self.conv1 = nn.Conv3d(in_channels = nb_channels, out_channels = 8 , kernel_size = 3 , padding = 1)\n",
    "        self.conv2 = nn.Conv3d(in_channels = 8, out_channels = 16, kernel_size = 3, padding = 1)\n",
    "        self.conv3 = nn.Conv3d(in_channels = 16, out_channels = 32, kernel_size = 3, padding = 1)\n",
    "        self.encode_linear = nn.Linear(in_features = 1024, out_features = nb_encoded_features)\n",
    "        self.decode_linear = nn.Linear(in_features = nb_encoded_features, out_features = 1024)\n",
    "        self.deconv1 = nn.Conv3d(in_channels = 32, out_channels = 16, kernel_size = 3, padding = 1)\n",
    "        self.deconv2 = nn.Conv3d(in_channels = 16, out_channels = 8, kernel_size = 3, padding = 1)\n",
    "        self.deconv3 = nn.Conv3d(in_channels = 8, out_channels = nb_channels, kernel_size = 3, padding = 1)\n",
    "        \n",
    "    def forward(self,x):\n",
    "        x = F.relu(self.conv1(x))\n",
    "        x,indices1 = self.pool(x)\n",
    "        x = F.relu(self.conv2(x))\n",
    "        x,indices2 = self.pool(x)\n",
    "        x = F.relu(self.conv3(x))\n",
    "        x,indices3 = self.pool(x)\n",
    "        x = x.view(x.size()[0],-1) #Flatten\n",
    "        encoded = self.encode_linear(x)\n",
    "        x = self.decode_linear(encoded)\n",
    "        x = x.view(x.size()[0],32,2,2,2)\n",
    "        x = self.unpool(x,indices3)\n",
    "        x = F.relu(self.deconv1(x))\n",
    "        x = self.unpool(x,indices2)\n",
    "        x = F.relu(self.deconv2(x))\n",
    "        x = self.unpool(x,indices1)\n",
    "        x = self.deconv3(x)\n",
    "        decoded = x\n",
    "        return x"
   ]
  },
  {
   "cell_type": "code",
   "execution_count": 12,
   "metadata": {},
   "outputs": [],
   "source": [
    "def train_AE(AE,epochs = 501, batch_size = 4):\n",
    "    criterion = nn.MSELoss() \n",
    "    optimizer = optim.Adam(AE.parameters())\n",
    "    start_time = datetime.datetime.now()\n",
    "    losses = []\n",
    "    torch.set_num_threads(8)\n",
    "    for epoch in range(epochs):\n",
    "        #load data\n",
    "        N_train = 0.5 * len(os.listdir('Euler_Displacement'))\n",
    "        inputs = np.zeros((batch_size,) + (AE.nb_channels,) + AE.img_size)\n",
    "        for i in range(batch_size):\n",
    "            idx = np.random.randint(0,N_train)\n",
    "            img = np.load('Euler_Displacement/' + os.listdir('Euler_Displacement')[idx])\n",
    "            #img = img.reshape((AE.nb_channels,) + AE.img_size)\n",
    "            x = np.random.randint(0,224)\n",
    "            patch = img[x:x+32,x:x+32,x:x+32]\n",
    "            patch = patch.reshape((AE.nb_channels,) + AE.img_size)\n",
    "            inputs[i] = patch\n",
    "        \n",
    "        inputs = torch.Tensor(inputs)\n",
    "        #Gradient set to zero\n",
    "        optimizer.zero_grad()\n",
    "        \n",
    "        # forward + backward \n",
    "        device = torch.device(\"cuda:0\" if torch.cuda.is_available() else \"cpu\")\n",
    "        #print(device)\n",
    "        AE = AE.to(device)\n",
    "        inputs = inputs.to(device)\n",
    "        outputs = AE(inputs)\n",
    "        loss = criterion(outputs, inputs)\n",
    "        loss.backward() \n",
    "        \n",
    "        #update parameters\n",
    "        optimizer.step()\n",
    "        \n",
    "        losses.append(loss.item())\n",
    "        if(epoch%10 ==0):\n",
    "            print(loss.item())\n",
    "            print(datetime.datetime.now() - start_time)\n",
    "    \n",
    "    np.save('history.npy',np.array(losses))\n",
    "    return AE"
   ]
  },
  {
   "cell_type": "code",
   "execution_count": 4,
   "metadata": {},
   "outputs": [],
   "source": [
    "AE = Auto_Encoder(nb_channels = 1,nb_encoded_features = 10)"
   ]
  },
  {
   "cell_type": "code",
   "execution_count": 13,
   "metadata": {},
   "outputs": [
    {
     "name": "stdout",
     "output_type": "stream",
     "text": [
      "82.94468688964844\n",
      "0:00:00.360642\n",
      "3.396165370941162\n",
      "0:00:03.642764\n",
      "29.695619583129883\n",
      "0:00:07.081399\n",
      "55.3591194152832\n",
      "0:00:10.449440\n",
      "18.389705657958984\n",
      "0:00:13.795617\n",
      "14.15456771850586\n",
      "0:00:17.271412\n",
      "18.106372833251953\n",
      "0:00:20.476029\n",
      "8.77189826965332\n",
      "0:00:24.034873\n",
      "1.2960683107376099\n",
      "0:00:27.513466\n",
      "4.211458206176758\n",
      "0:00:30.857540\n",
      "6.271265983581543\n",
      "0:00:34.312086\n",
      "9.156800270080566\n",
      "0:00:37.860073\n",
      "3.1489346027374268\n",
      "0:00:41.153133\n",
      "3.2595536708831787\n",
      "0:00:44.510397\n",
      "8.695523262023926\n",
      "0:00:47.895305\n",
      "11.04946517944336\n",
      "0:00:51.319337\n",
      "4.778578758239746\n",
      "0:00:54.773883\n",
      "0.7492628693580627\n",
      "0:00:58.220561\n",
      "44.08896255493164\n",
      "0:01:01.535598\n",
      "4.371532917022705\n",
      "0:01:05.007359\n",
      "2.4063355922698975\n",
      "0:01:08.303401\n",
      "4.807756423950195\n",
      "0:01:11.728591\n",
      "3.9324560165405273\n",
      "0:01:15.259478\n",
      "4.4159135818481445\n",
      "0:01:18.619999\n",
      "1.6675353050231934\n",
      "0:01:21.937008\n",
      "2.364781379699707\n",
      "0:01:25.290836\n",
      "1.5524420738220215\n",
      "0:01:28.633771\n",
      "0.5185885429382324\n",
      "0:01:32.001162\n",
      "1.520329236984253\n",
      "0:01:35.258598\n",
      "0.929302453994751\n",
      "0:01:38.699516\n",
      "2.5428261756896973\n",
      "0:01:42.046454\n",
      "4.350426197052002\n",
      "0:01:45.296212\n",
      "1.5521550178527832\n",
      "0:01:48.605903\n",
      "6.316229343414307\n",
      "0:01:52.005008\n",
      "40.224853515625\n",
      "0:01:55.273163\n",
      "0.8462198376655579\n",
      "0:01:58.538306\n",
      "0.3400215804576874\n",
      "0:02:01.994117\n",
      "37.758811950683594\n",
      "0:02:05.370216\n",
      "0.9873500466346741\n",
      "0:02:08.756780\n",
      "2.94709849357605\n",
      "0:02:12.177142\n",
      "0.8117121458053589\n",
      "0:02:15.516344\n",
      "3.6927506923675537\n",
      "0:02:18.914434\n",
      "6.571682453155518\n",
      "0:02:22.187935\n",
      "1.6828842163085938\n",
      "0:02:25.512218\n",
      "1.9444235563278198\n",
      "0:02:28.941875\n",
      "0.5739541053771973\n",
      "0:02:32.246254\n",
      "0.6979159116744995\n",
      "0:02:35.580111\n",
      "0.9396098852157593\n",
      "0:02:38.856740\n",
      "17.817127227783203\n",
      "0:02:42.293165\n",
      "0.5448904037475586\n",
      "0:02:45.718285\n",
      "1.992690086364746\n",
      "0:02:49.103295\n"
     ]
    }
   ],
   "source": [
    "AE = train_AE(AE)"
   ]
  },
  {
   "cell_type": "code",
   "execution_count": 14,
   "metadata": {},
   "outputs": [],
   "source": [
    "history = np.load('history.npy')"
   ]
  },
  {
   "cell_type": "code",
   "execution_count": 15,
   "metadata": {},
   "outputs": [
    {
     "data": {
      "text/plain": [
       "[<matplotlib.lines.Line2D at 0x7f3f884b1da0>]"
      ]
     },
     "execution_count": 15,
     "metadata": {},
     "output_type": "execute_result"
    },
    {
     "data": {
      "image/png": "[encoded data removed]",
      "text/plain": [
       "<Figure size 432x288 with 1 Axes>"
      ]
     },
     "metadata": {},
     "output_type": "display_data"
    }
   ],
   "source": [
    "plt.plot(history)"
   ]
  },
  {
   "cell_type": "code",
   "execution_count": 20,
   "metadata": {},
   "outputs": [],
   "source": [
    "testset = []\n",
    "for idx in range(110,190):\n",
    "    img = np.load('Euler_Displacement/' + os.listdir('Euler_Displacement')[idx])\n",
    "    x = np.random.randint(0,224)\n",
    "    patch = img[x:x+32,x:x+32,x:x+32]\n",
    "    testset.append(patch)"
   ]
  },
  {
   "cell_type": "code",
   "execution_count": 21,
   "metadata": {},
   "outputs": [
    {
     "name": "stdout",
     "output_type": "stream",
     "text": [
      "tensor(5.8342, device='cuda:0', grad_fn=<MseLossBackward>)\n"
     ]
    }
   ],
   "source": [
    "testinput = np.array(testset)\n",
    "testinput = testinput.reshape((testinput.shape[0],1,32,32,32))\n",
    "testinput = torch.Tensor(testinput)\n",
    "device = torch.device(\"cuda:0\" if torch.cuda.is_available() else \"cpu\")\n",
    "testinput = testinput.to(device)\n",
    "testoutput = AE(testinput)\n",
    "criterion = nn.MSELoss()\n",
    "loss = criterion(testoutput, testinput)\n",
    "print(loss)"
   ]
  },
  {
   "cell_type": "code",
   "execution_count": null,
   "metadata": {},
   "outputs": [],
   "source": []
  }
 ],
 "metadata": {
  "kernelspec": {
   "display_name": "Python 3",
   "language": "python",
   "name": "python3"
  },
  "language_info": {
   "codemirror_mode": {
    "name": "ipython",
    "version": 3
   },
   "file_extension": ".py",
   "mimetype": "text/x-python",
   "name": "python",
   "nbconvert_exporter": "python",
   "pygments_lexer": "ipython3",
   "version": "3.6.5"
  }
 },
 "nbformat": 4,
 "nbformat_minor": 2
}
