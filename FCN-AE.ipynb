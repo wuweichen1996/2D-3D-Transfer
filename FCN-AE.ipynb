{
 "cells": [
  {
   "cell_type": "code",
   "execution_count": 1,
   "metadata": {},
   "outputs": [],
   "source": [
    "import os\n",
    "import numpy as np\n",
    "import torch\n",
    "import torch.nn as nn\n",
    "import torch.nn.functional as F\n",
    "import torch.optim as optim\n",
    "import datetime\n",
    "#os.environ[\"CUDA_VISIBLE_DEVICES\"] = \"0\"\n",
    "import matplotlib.pyplot as plt\n",
    "%matplotlib inline"
   ]
  },
  {
   "cell_type": "code",
   "execution_count": 2,
   "metadata": {},
   "outputs": [],
   "source": [
    "class Auto_Encoder(nn.Module):\n",
    "    def __init__(self,nb_channels,img_size = (32,32,32)):\n",
    "        nn.Module.__init__(self)\n",
    "        self.nb_channels = nb_channels\n",
    "        self.img_size = img_size\n",
    "        self.pool = nn.MaxPool3d(kernel_size = 2,return_indices = True)\n",
    "        self.unpool = nn.MaxUnpool3d(kernel_size = 2)\n",
    "        self.conv1 = nn.Conv3d(in_channels = nb_channels, out_channels = 8 , kernel_size = 3 , padding = 1)\n",
    "        self.conv2 = nn.Conv3d(in_channels = 8, out_channels = 16, kernel_size = 3, padding = 1)\n",
    "        self.conv3 = nn.Conv3d(in_channels = 16, out_channels = 32, kernel_size = 3, padding = 1)\n",
    "        self.deconv1 = nn.Conv3d(in_channels = 32, out_channels = 16, kernel_size = 3, padding = 1)\n",
    "        self.deconv2 = nn.Conv3d(in_channels = 16, out_channels = 8, kernel_size = 3, padding = 1)\n",
    "        self.deconv3 = nn.Conv3d(in_channels = 8, out_channels = nb_channels, kernel_size = 3, padding = 1)\n",
    "        \n",
    "    def forward(self,x):\n",
    "        x = F.relu(self.conv1(x))\n",
    "        x,indices1 = self.pool(x)\n",
    "        x = F.relu(self.conv2(x))\n",
    "        x,indices2 = self.pool(x)\n",
    "        x = F.relu(self.conv3(x))\n",
    "        x,indices3 = self.pool(x)\n",
    "        encoded = x\n",
    "        x = self.unpool(x,indices3)\n",
    "        x = F.relu(self.deconv1(x))\n",
    "        x = self.unpool(x,indices2)\n",
    "        x = F.relu(self.deconv2(x))\n",
    "        x = self.unpool(x,indices1)\n",
    "        x = self.deconv3(x)\n",
    "        decoded = x\n",
    "        return x"
   ]
  },
  {
   "cell_type": "code",
   "execution_count": 3,
   "metadata": {},
   "outputs": [],
   "source": [
    "def train_AE(AE,epochs = 501, batch_size = 4):\n",
    "    criterion = nn.MSELoss() \n",
    "    optimizer = optim.Adam(AE.parameters())\n",
    "    start_time = datetime.datetime.now()\n",
    "    losses = []\n",
    "    torch.set_num_threads(8)\n",
    "    for epoch in range(epochs):\n",
    "        #load data\n",
    "        N_train = 0.5 * len(os.listdir('Euler_Displacement'))\n",
    "        inputs = np.zeros((batch_size,) + (AE.nb_channels,) + AE.img_size)\n",
    "        for i in range(batch_size):\n",
    "            idx = np.random.randint(0,N_train)\n",
    "            img = np.load('Euler_Displacement/' + os.listdir('Euler_Displacement')[idx])\n",
    "            #img = img.reshape((AE.nb_channels,) + AE.img_size)\n",
    "            x = np.random.randint(0,256-AE.img_size[0])\n",
    "            patch = img[x:x+AE.img_size[0],x:x+AE.img_size[1],x:x+AE.img_size[2]]\n",
    "            patch = patch.reshape((AE.nb_channels,) + AE.img_size)\n",
    "            inputs[i] = patch\n",
    "        \n",
    "        inputs = torch.Tensor(inputs)\n",
    "        #Gradient set to zero\n",
    "        optimizer.zero_grad()\n",
    "        \n",
    "        # forward + backward \n",
    "        device = torch.device(\"cuda:0\" if torch.cuda.is_available() else \"cpu\")\n",
    "        #print(device)\n",
    "        AE = AE.to(device)\n",
    "        inputs = inputs.to(device)\n",
    "        outputs = AE(inputs)\n",
    "        loss = criterion(outputs, inputs)\n",
    "        loss.backward() \n",
    "        \n",
    "        #update parameters\n",
    "        optimizer.step()\n",
    "        \n",
    "        losses.append(loss.item())\n",
    "        if(epoch%10 ==0):\n",
    "            print(loss.item())\n",
    "            print(datetime.datetime.now() - start_time)\n",
    "    \n",
    "    np.save('history.npy',np.array(losses))\n",
    "    return AE"
   ]
  },
  {
   "cell_type": "code",
   "execution_count": 4,
   "metadata": {},
   "outputs": [],
   "source": [
    "AE = Auto_Encoder(nb_channels = 1)"
   ]
  },
  {
   "cell_type": "code",
   "execution_count": 5,
   "metadata": {},
   "outputs": [
    {
     "name": "stdout",
     "output_type": "stream",
     "text": [
      "97.37346649169922\n",
      "0:00:06.256795\n",
      "69.44392395019531\n",
      "0:00:10.708055\n",
      "39.229339599609375\n",
      "0:00:14.963295\n",
      "37.97355651855469\n",
      "0:00:18.571390\n",
      "1.164306402206421\n",
      "0:00:22.148854\n",
      "19.83287811279297\n",
      "0:00:25.897851\n",
      "32.39992904663086\n",
      "0:00:29.590840\n",
      "12.785661697387695\n",
      "0:00:33.150998\n",
      "17.900243759155273\n",
      "0:00:36.854088\n",
      "3.4264020919799805\n",
      "0:00:40.798647\n",
      "34.693572998046875\n",
      "0:00:44.791180\n",
      "13.064411163330078\n",
      "0:00:48.457721\n",
      "4.049027442932129\n",
      "0:00:52.061968\n",
      "9.605369567871094\n",
      "0:00:55.931942\n",
      "12.303120613098145\n",
      "0:00:59.872618\n",
      "21.401262283325195\n",
      "0:01:03.557525\n",
      "11.169468879699707\n",
      "0:01:07.075117\n",
      "6.518003463745117\n",
      "0:01:11.589474\n",
      "4.4902472496032715\n",
      "0:01:15.549598\n",
      "3.408803939819336\n",
      "0:01:18.541236\n",
      "8.211265563964844\n",
      "0:01:21.504999\n",
      "4.501715660095215\n",
      "0:01:24.564291\n",
      "3.74326753616333\n",
      "0:01:27.621628\n",
      "5.00960636138916\n",
      "0:01:30.604151\n",
      "3.881869077682495\n",
      "0:01:33.586283\n",
      "4.777606964111328\n",
      "0:01:36.781657\n",
      "5.2226386070251465\n",
      "0:01:39.747205\n",
      "2.494910478591919\n",
      "0:01:42.728843\n",
      "11.16810417175293\n",
      "0:01:45.740967\n",
      "10.87783432006836\n",
      "0:01:48.756828\n",
      "3.7235240936279297\n",
      "0:01:51.720950\n",
      "4.70585298538208\n",
      "0:01:54.710953\n",
      "11.380704879760742\n",
      "0:01:57.705397\n",
      "2.6419694423675537\n",
      "0:02:00.744602\n",
      "3.456573486328125\n",
      "0:02:03.761010\n",
      "3.1197116374969482\n",
      "0:02:06.782985\n",
      "3.5891189575195312\n",
      "0:02:11.229334\n",
      "0.37576574087142944\n",
      "0:02:16.690151\n",
      "0.810813307762146\n",
      "0:02:21.879950\n",
      "8.020650863647461\n",
      "0:02:27.432986\n",
      "2.16001558303833\n",
      "0:02:32.299496\n",
      "0.6127913594245911\n",
      "0:02:37.645180\n",
      "16.374710083007812\n",
      "0:02:42.899121\n",
      "11.532421112060547\n",
      "0:02:47.811087\n",
      "2.0384416580200195\n",
      "0:02:51.267180\n",
      "2.6889727115631104\n",
      "0:02:54.249170\n",
      "4.709990978240967\n",
      "0:02:57.196375\n",
      "8.817876815795898\n",
      "0:03:00.145195\n",
      "1.4850122928619385\n",
      "0:03:03.174876\n",
      "3.0108697414398193\n",
      "0:03:06.129088\n",
      "3.408994674682617\n",
      "0:03:09.161950\n"
     ]
    }
   ],
   "source": [
    "AE = train_AE(AE)"
   ]
  },
  {
   "cell_type": "code",
   "execution_count": 6,
   "metadata": {},
   "outputs": [],
   "source": [
    "history = np.load('history.npy')"
   ]
  },
  {
   "cell_type": "code",
   "execution_count": 7,
   "metadata": {},
   "outputs": [
    {
     "data": {
      "text/plain": [
       "[<matplotlib.lines.Line2D at 0x7fc2d7cfa390>]"
      ]
     },
     "execution_count": 7,
     "metadata": {},
     "output_type": "execute_result"
    },
    {
     "data": {
      "image/png": "[encoded data removed]",
      "text/plain": [
       "<Figure size 432x288 with 1 Axes>"
      ]
     },
     "metadata": {},
     "output_type": "display_data"
    }
   ],
   "source": [
    "plt.plot(history)"
   ]
  },
  {
   "cell_type": "code",
   "execution_count": 8,
   "metadata": {},
   "outputs": [],
   "source": [
    "testset = []\n",
    "for idx in range(110,190):\n",
    "    img = np.load('Euler_Displacement/' + os.listdir('Euler_Displacement')[idx])\n",
    "    x = np.random.randint(0,192)\n",
    "    patch = img[x:x+64,x:x+64,x:x+64]\n",
    "    testset.append(patch)"
   ]
  },
  {
   "cell_type": "code",
   "execution_count": 9,
   "metadata": {},
   "outputs": [
    {
     "name": "stdout",
     "output_type": "stream",
     "text": [
      "tensor(6.6936, device='cuda:0', grad_fn=<MseLossBackward>)\n"
     ]
    }
   ],
   "source": [
    "testinput = np.array(testset)\n",
    "testinput = testinput.reshape((testinput.shape[0],1,64,64,64))\n",
    "testinput = torch.Tensor(testinput)\n",
    "device = torch.device(\"cuda:0\" if torch.cuda.is_available() else \"cpu\")\n",
    "testinput = testinput.to(device)\n",
    "testoutput = AE(testinput)\n",
    "criterion = nn.MSELoss()\n",
    "loss = criterion(testoutput, testinput)\n",
    "print(loss)"
   ]
  },
  {
   "cell_type": "code",
   "execution_count": null,
   "metadata": {},
   "outputs": [],
   "source": []
  }
 ],
 "metadata": {
  "kernelspec": {
   "display_name": "Python 3",
   "language": "python",
   "name": "python3"
  },
  "language_info": {
   "codemirror_mode": {
    "name": "ipython",
    "version": 3
   },
   "file_extension": ".py",
   "mimetype": "text/x-python",
   "name": "python",
   "nbconvert_exporter": "python",
   "pygments_lexer": "ipython3",
   "version": "3.6.5"
  }
 },
 "nbformat": 4,
 "nbformat_minor": 2
}
