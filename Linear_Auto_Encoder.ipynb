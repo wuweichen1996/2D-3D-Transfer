{
 "cells": [
  {
   "cell_type": "code",
   "execution_count": 1,
   "metadata": {},
   "outputs": [],
   "source": [
    "import os\n",
    "import numpy as np\n",
    "import torch\n",
    "import torch.nn as nn\n",
    "import torch.nn.functional as F\n",
    "import torch.optim as optim\n",
    "import datetime"
   ]
  },
  {
   "cell_type": "code",
   "execution_count": 2,
   "metadata": {},
   "outputs": [],
   "source": [
    "class Linear_Auto_Encoder(nn.Module):\n",
    "    def __init__(self,nb_channels,nb_encoded_features,patch_size = (16,16,16)):\n",
    "        nn.Module.__init__(self)\n",
    "        self.nb_channels = nb_channels\n",
    "        self.nb_encoded_features = nb_encoded_features\n",
    "        self.patch_size = patch_size\n",
    "        self.encode_linear = nn.Linear(in_features = patch_size[0]*patch_size[1]*patch_size[2],out_features = nb_encoded_features)\n",
    "        self.decode_linear = nn.Linear(in_features = nb_encoded_features,out_features = patch_size[0]*patch_size[1]*patch_size[2])\n",
    "    \n",
    "    def forward(self,x):\n",
    "        x = x.view(x.size()[0],-1)\n",
    "        #x = F.relu(x)\n",
    "        encoded = self.encode_linear(x)\n",
    "        x = self.decode_linear(encoded)\n",
    "        #x = F.relu(x)\n",
    "        x = x.view((x.size()[0],) + (self.nb_channels,) + self.patch_size)\n",
    "        return x"
   ]
  },
  {
   "cell_type": "code",
   "execution_count": 3,
   "metadata": {},
   "outputs": [],
   "source": [
    "def train_AE(AE,epochs = 2000, batch_size = 1):\n",
    "    criterion = nn.MSELoss() \n",
    "    optimizer = optim.Adam(AE.parameters())\n",
    "    start_time = datetime.datetime.now()\n",
    "    losses = []\n",
    "    torch.set_num_threads(8)\n",
    "    for epoch in range(epochs+1):\n",
    "        #load data\n",
    "        N_train = 0.5 * len(os.listdir('Euler_Displacement'))\n",
    "        inputs = np.zeros((batch_size,) + (AE.nb_channels,) + AE.patch_size)\n",
    "        for i in range(batch_size):\n",
    "            idx = np.random.randint(0,N_train)\n",
    "            img = np.load('Euler_Displacement/' + os.listdir('Euler_Displacement')[idx])\n",
    "            #img = img.reshape((AE.nb_channels,) + AE.img_size)\n",
    "            x = np.random.randint(0,240)\n",
    "            patch = img[x:x+16,x:x+16,x:x+16]\n",
    "            patch = patch.reshape((AE.nb_channels,) + AE.patch_size)\n",
    "            inputs[i] = patch\n",
    "        \n",
    "        inputs = torch.Tensor(inputs)\n",
    "        #Gradient set to zero\n",
    "        optimizer.zero_grad()\n",
    "        \n",
    "        # forward + backward \n",
    "        device = torch.device(\"cuda:0\" if torch.cuda.is_available() else \"cpu\")\n",
    "        #print(device)\n",
    "        AE = AE.to(device)\n",
    "        inputs = inputs.to(device)\n",
    "        outputs = AE(inputs)\n",
    "        loss = criterion(outputs, inputs)\n",
    "        loss.backward() \n",
    "        \n",
    "        #update parameters\n",
    "        optimizer.step()\n",
    "        \n",
    "        losses.append(loss.item())\n",
    "        if(epoch%100 ==0):\n",
    "            print(loss.item())\n",
    "            print(datetime.datetime.now() - start_time)\n",
    "    \n",
    "    np.save('history.npy',np.array(losses))"
   ]
  },
  {
   "cell_type": "code",
   "execution_count": 4,
   "metadata": {},
   "outputs": [],
   "source": [
    "LAE = Linear_Auto_Encoder(nb_channels = 1, nb_encoded_features = 4)"
   ]
  },
  {
   "cell_type": "code",
   "execution_count": 5,
   "metadata": {},
   "outputs": [
    {
     "name": "stdout",
     "output_type": "stream",
     "text": [
      "295.2695617675781\n",
      "0:00:04.783645\n",
      "18.642105102539062\n",
      "0:00:33.485858\n",
      "50.65137481689453\n",
      "0:01:03.295548\n",
      "88.203125\n",
      "0:01:33.947880\n",
      "78.27971649169922\n",
      "0:02:03.057000\n",
      "79.52896118164062\n",
      "0:02:30.606908\n",
      "13.540297508239746\n",
      "0:02:58.776605\n",
      "32.509525299072266\n",
      "0:03:26.444593\n",
      "25.62362289428711\n",
      "0:03:57.766196\n",
      "3.42462158203125\n",
      "0:04:26.927028\n",
      "3.096296787261963\n",
      "0:04:54.762315\n",
      "3.2072649002075195\n",
      "0:05:22.583298\n",
      "0.6248839497566223\n",
      "0:05:53.060962\n",
      "4.031173229217529\n",
      "0:06:20.849627\n",
      "0.19848045706748962\n",
      "0:06:48.804590\n",
      "0.26483333110809326\n",
      "0:07:17.221045\n",
      "0.19855105876922607\n",
      "0:07:44.747744\n",
      "0.41871869564056396\n",
      "0:08:12.985365\n",
      "0.12816458940505981\n",
      "0:08:44.933144\n",
      "0.1728428602218628\n",
      "0:09:13.348623\n",
      "0.08704166114330292\n",
      "0:09:41.598909\n"
     ]
    }
   ],
   "source": [
    "train_AE(LAE,batch_size = 4)"
   ]
  },
  {
   "cell_type": "code",
   "execution_count": 6,
   "metadata": {},
   "outputs": [
    {
     "data": {
      "text/plain": [
       "[<matplotlib.lines.Line2D at 0x7f8af35b86a0>]"
      ]
     },
     "execution_count": 6,
     "metadata": {},
     "output_type": "execute_result"
    },
    {
     "data": {
      "image/png": "[encoded data removed]",
      "text/plain": [
       "<Figure size 432x288 with 1 Axes>"
      ]
     },
     "metadata": {},
     "output_type": "display_data"
    }
   ],
   "source": [
    "history = np.load('history.npy')\n",
    "import matplotlib.pyplot as plt\n",
    "%matplotlib inline\n",
    "plt.plot(history)"
   ]
  },
  {
   "cell_type": "code",
   "execution_count": 8,
   "metadata": {},
   "outputs": [
    {
     "name": "stdout",
     "output_type": "stream",
     "text": [
      "76.33455380204762\n",
      "tensor(0.2201, device='cuda:0', grad_fn=<MseLossBackward>)\n"
     ]
    }
   ],
   "source": [
    "testset = []\n",
    "for idx in range(110,190):\n",
    "    img = np.load('Euler_Displacement/' + os.listdir('Euler_Displacement')[idx])\n",
    "    x = np.random.randint(0,240)\n",
    "    patch = img[x:x+16,x:x+16,x:x+16]\n",
    "    testset.append(patch)\n",
    "    \n",
    "testinput = np.array(testset)\n",
    "testinput = testinput.reshape((80*4096,))\n",
    "print(np.var(testinput))\n",
    "testinput = testinput.reshape((80,1,16,16,16))\n",
    "testinput = torch.Tensor(testinput)\n",
    "device = torch.device(\"cuda:0\" if torch.cuda.is_available() else \"cpu\")\n",
    "testinput = testinput.to(device)\n",
    "testoutput = LAE(testinput)\n",
    "criterion = nn.MSELoss()\n",
    "loss = criterion(testoutput, testinput)\n",
    "print(loss)"
   ]
  },
  {
   "cell_type": "code",
   "execution_count": 9,
   "metadata": {},
   "outputs": [
    {
     "data": {
      "text/plain": [
       "[<matplotlib.lines.Line2D at 0x7f8af3519f98>]"
      ]
     },
     "execution_count": 9,
     "metadata": {},
     "output_type": "execute_result"
    },
    {
     "data": {
      "image/png": "[encoded data removed]",
      "text/plain": [
       "<Figure size 432x288 with 1 Axes>"
      ]
     },
     "metadata": {},
     "output_type": "display_data"
    }
   ],
   "source": [
    "plt.plot(history[1500:2000])"
   ]
  },
  {
   "cell_type": "code",
   "execution_count": null,
   "metadata": {},
   "outputs": [],
   "source": []
  }
 ],
 "metadata": {
  "kernelspec": {
   "display_name": "Python 3",
   "language": "python",
   "name": "python3"
  },
  "language_info": {
   "codemirror_mode": {
    "name": "ipython",
    "version": 3
   },
   "file_extension": ".py",
   "mimetype": "text/x-python",
   "name": "python",
   "nbconvert_exporter": "python",
   "pygments_lexer": "ipython3",
   "version": "3.6.5"
  }
 },
 "nbformat": 4,
 "nbformat_minor": 2
}
